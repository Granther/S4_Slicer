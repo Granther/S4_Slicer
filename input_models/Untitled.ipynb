{
 "cells": [
  {
   "cell_type": "markdown",
   "id": "7ce6499d-5af2-4e23-9a8d-1d3d6a7be654",
   "metadata": {},
   "source": [
    "## Chapter 2"
   ]
  },
  {
   "cell_type": "markdown",
   "id": "9877fcf2-2014-412b-a781-47c189dd718d",
   "metadata": {},
   "source": [
    "### Scalars\n",
    "- Quantity, has magnitude, direction is not relavent"
   ]
  },
  {
   "cell_type": "markdown",
   "id": "209c0f34-916c-478f-ad4c-18fe88f7189d",
   "metadata": {},
   "source": [
    "### Vectors\n",
    "- Direction\n",
    "- Magnitude\n",
    "- Sense of direction\n",
    "As in, direction is the angle, while the sense is wether it is postive or negative"
   ]
  },
  {
   "cell_type": "code",
   "execution_count": null,
   "id": "9ccf0b3c-3f64-4ba3-8c00-ec7ffc1a17c1",
   "metadata": {},
   "outputs": [],
   "source": []
  }
 ],
 "metadata": {
  "kernelspec": {
   "display_name": "Python 3 (ipykernel)",
   "language": "python",
   "name": "python3"
  },
  "language_info": {
   "codemirror_mode": {
    "name": "ipython",
    "version": 3
   },
   "file_extension": ".py",
   "mimetype": "text/x-python",
   "name": "python",
   "nbconvert_exporter": "python",
   "pygments_lexer": "ipython3",
   "version": "3.11.9"
  }
 },
 "nbformat": 4,
 "nbformat_minor": 5
}
