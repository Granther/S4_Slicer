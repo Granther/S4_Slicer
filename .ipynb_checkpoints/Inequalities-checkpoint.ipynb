{
 "cells": [
  {
   "cell_type": "markdown",
   "id": "86a99498-2896-4ab8-afa4-3949ffaf5b47",
   "metadata": {},
   "source": [
    "### Linear Inequalities\n",
    "- A not-equal sign is used\n",
    "- Each side can be numbers or expressions"
   ]
  }
 ],
 "metadata": {
  "kernelspec": {
   "display_name": "Python 3 (ipykernel)",
   "language": "python",
   "name": "python3"
  },
  "language_info": {
   "codemirror_mode": {
    "name": "ipython",
    "version": 3
   },
   "file_extension": ".py",
   "mimetype": "text/x-python",
   "name": "python",
   "nbconvert_exporter": "python",
   "pygments_lexer": "ipython3",
   "version": "3.11.9"
  }
 },
 "nbformat": 4,
 "nbformat_minor": 5
}
