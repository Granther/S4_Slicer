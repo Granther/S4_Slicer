{
 "cells": [
  {
   "cell_type": "markdown",
   "id": "116ef580-2644-4486-b4b8-3e0be1fdde7c",
   "metadata": {},
   "source": [
    "# Slope"
   ]
  },
  {
   "cell_type": "raw",
   "id": "f8e71409-967a-4485-8f22-e91f45b6ab66",
   "metadata": {},
   "source": [
    "delta = \"Change in ...\"\n",
    "Slope = delta-x / delta-y\n",
    "\n",
    "Rate of change of vertical over rate of change of horizontal\n",
    "\"Rise over run\""
   ]
  },
  {
   "cell_type": "code",
   "execution_count": null,
   "id": "cf1d3c31-ed30-44d3-979f-635e469b4756",
   "metadata": {},
   "outputs": [],
   "source": [
    "A linear line has a constant slope\n",
    "Any 2 points on a line will have the same slope"
   ]
  },
  {
   "cell_type": "markdown",
   "id": "b36e6700-95b5-44e7-bd84-e468ffea881f",
   "metadata": {},
   "source": [
    "### Calculus involves thinking about the rate of change of a something non-linear"
   ]
  },
  {
   "cell_type": "markdown",
   "id": "6e441006-9a9c-4326-908b-7fc588f98ac4",
   "metadata": {},
   "source": [
    "#### Secant line\n",
    "- A line between 2 points on a nonlinear graph. A linear represantaion of something nonlinear"
   ]
  },
  {
   "cell_type": "markdown",
   "id": "f15aec62-5d9b-418a-9fa4-9c15a4682f5e",
   "metadata": {},
   "source": [
    "#### Instantanious rate of change\n",
    "- Used to measure the 'slope' of a point on something non-linear at 1 point with respect to another\n",
    "- \"What is the rate of change of Y if X=2?\"\n",
    "- Well, since slope has non meaning on a nonlinear equation due to the rate of change non being constant, but contantly changing. Slope only makes sense instantaniously\n",
    "\n",
    "#### How to find IROC?\n",
    "- A tangent line can be used\n",
    "- A line tangent to the nonlinear curve at X will give us a line with the slope for Y"
   ]
  },
  {
   "cell_type": "markdown",
   "id": "11a04ad9-5314-4169-b9a9-8298f668ddcb",
   "metadata": {},
   "source": [
    "### Derivative = IROF (Tangent line to nonlinear one)"
   ]
  },
  {
   "cell_type": "markdown",
   "id": "0fb066a5-e933-4171-8921-34b0cb36619e",
   "metadata": {},
   "source": [
    "### Notation\n",
    "- The slope of a tangent line to a nonlinear line in the X,Y coorinate system\n",
    "- dy/dx = Slope of tangent line\n",
    "\n",
    "#### Line\n",
    "- Nonlinear graph. y = f(x)\n",
    "- Derivative, Slope at x1. f'(x1)\n",
    "- At x1, where x1 is a point on the line, the IROC (or the tangent line at x1) is f'(x1)"
   ]
  },
  {
   "cell_type": "code",
   "execution_count": null,
   "id": "1731d50c-c24a-4e72-843c-9c7c0d469547",
   "metadata": {},
   "outputs": [],
   "source": []
  }
 ],
 "metadata": {
  "kernelspec": {
   "display_name": "Python 3 (ipykernel)",
   "language": "python",
   "name": "python3"
  },
  "language_info": {
   "codemirror_mode": {
    "name": "ipython",
    "version": 3
   },
   "file_extension": ".py",
   "mimetype": "text/x-python",
   "name": "python",
   "nbconvert_exporter": "python",
   "pygments_lexer": "ipython3",
   "version": "3.10.17"
  }
 },
 "nbformat": 4,
 "nbformat_minor": 5
}
