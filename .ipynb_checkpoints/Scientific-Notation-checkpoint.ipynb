{
 "cells": [
  {
   "cell_type": "markdown",
   "id": "64ab6a2b-dac1-446b-b4f2-0efa9f7a7649",
   "metadata": {},
   "source": [
    "### Scientific Notation\n",
    "- Multiply desired float by 10 to the power of the number of decimal points between the desired and current\n",
    "- If moving decimal in direction of smaller magnitude raise 10 to the negative exponent"
   ]
  },
  {
   "cell_type": "markdown",
   "id": "99caae52-0ced-454b-95b9-1adac2f8248e",
   "metadata": {},
   "source": [
    "#### Example\n",
    "- 3500 = 3.5*10^3\n",
    "- Notice how the decimal point moved 3 places towards larger magnitude\n",
    "- 3500 . -> 3.500"
   ]
  },
  {
   "cell_type": "code",
   "execution_count": null,
   "id": "98e41419-f02a-4f4c-bde7-222aaf53067f",
   "metadata": {},
   "outputs": [],
   "source": []
  }
 ],
 "metadata": {
  "kernelspec": {
   "display_name": "Python 3 (ipykernel)",
   "language": "python",
   "name": "python3"
  },
  "language_info": {
   "codemirror_mode": {
    "name": "ipython",
    "version": 3
   },
   "file_extension": ".py",
   "mimetype": "text/x-python",
   "name": "python",
   "nbconvert_exporter": "python",
   "pygments_lexer": "ipython3",
   "version": "3.11.9"
  }
 },
 "nbformat": 4,
 "nbformat_minor": 5
}
