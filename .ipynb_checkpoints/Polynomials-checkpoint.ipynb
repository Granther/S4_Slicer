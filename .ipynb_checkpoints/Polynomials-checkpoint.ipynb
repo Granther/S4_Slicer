{
 "cells": [
  {
   "cell_type": "markdown",
   "id": "d53ce3e4-aab6-4693-81b5-cefd9a22d499",
   "metadata": {},
   "source": [
    "## Polynomials\n",
    "- An expression with 2 or more terms\n",
    "- A Binomial is a type of poly\n",
    "\n",
    "#### Binomials\n",
    "- 2 terms\n",
    "- 7x + 1\n",
    "\n",
    "#### Monomial\n",
    "- 1 term\n",
    "- 2x"
   ]
  },
  {
   "cell_type": "markdown",
   "id": "d441d3f6-de34-4231-8da6-08577ba980f8",
   "metadata": {},
   "source": [
    "### Exponents\n",
    "- How do you represent x * x? 2x? No\n",
    "- 2x would be x magnified by 2\n",
    "- Exponents represent this perfectly\n",
    "- This is why exponents must be done before other operations\n",
    "- They are containers signifiying a magnification, a simplified way of showing multiplicaion"
   ]
  },
  {
   "cell_type": "code",
   "execution_count": null,
   "id": "941283e2-8f48-4d75-8c3d-05e53d013758",
   "metadata": {},
   "outputs": [],
   "source": []
  }
 ],
 "metadata": {
  "kernelspec": {
   "display_name": "Python 3 (ipykernel)",
   "language": "python",
   "name": "python3"
  },
  "language_info": {
   "codemirror_mode": {
    "name": "ipython",
    "version": 3
   },
   "file_extension": ".py",
   "mimetype": "text/x-python",
   "name": "python",
   "nbconvert_exporter": "python",
   "pygments_lexer": "ipython3",
   "version": "3.11.9"
  }
 },
 "nbformat": 4,
 "nbformat_minor": 5
}
