{
 "cells": [
  {
   "cell_type": "markdown",
   "id": "22e9a9b8-e55d-415f-a5c6-27dcc89702b6",
   "metadata": {},
   "source": [
    "## Operations\n",
    "- Multiplication: Modify distance from zero with disregard for sign, Ie, distance from zero is changed, but the sign may be as well\n",
    "- Addition: Modify distance from 0, no component in the oper can change the sign and mag"
   ]
  },
  {
   "cell_type": "code",
   "execution_count": null,
   "id": "b050a1e0-4cdf-4f69-b9aa-06ad6bfc5ffe",
   "metadata": {},
   "outputs": [],
   "source": [
    "#### Dividing fractions truth\n",
    "- When dividing 2 fractions, turning it into a multiplication problem can make it easier\n",
    "- We just magnify one component, fraction in this case, by the reverse of the other component\n",
    "- 1/3 / 1/3 == 1/3 * 3/1"
   ]
  }
 ],
 "metadata": {
  "kernelspec": {
   "display_name": "Python 3 (ipykernel)",
   "language": "python",
   "name": "python3"
  },
  "language_info": {
   "codemirror_mode": {
    "name": "ipython",
    "version": 3
   },
   "file_extension": ".py",
   "mimetype": "text/x-python",
   "name": "python",
   "nbconvert_exporter": "python",
   "pygments_lexer": "ipython3",
   "version": "3.11.9"
  }
 },
 "nbformat": 4,
 "nbformat_minor": 5
}
