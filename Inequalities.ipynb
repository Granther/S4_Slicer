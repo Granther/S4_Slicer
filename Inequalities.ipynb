{
 "cells": [
  {
   "cell_type": "markdown",
   "id": "86a99498-2896-4ab8-afa4-3949ffaf5b47",
   "metadata": {},
   "source": [
    "### Linear Inequalities\n",
    "- A not-equal sign is used\n",
    "- Each side can be numbers or expressions"
   ]
  },
  {
   "cell_type": "markdown",
   "id": "51372fdb-0bdd-4d41-99b4-010c49a1648e",
   "metadata": {},
   "source": [
    "#### A and B\n",
    "- a > 0 and b < 0\n",
    "- b will never be a, and vice versa\n",
    "- b will always be negative, because of this, multiplying a and b will result in a large negative produce\n",
    "- -2/2=-1 > -2*2=-4\n",
    "- a/b > ab. Its absolute value, or, distance from 0 is lesser than that of ab"
   ]
  },
  {
   "cell_type": "markdown",
   "id": "398b912c-9559-4815-912f-ad20cc9a65db",
   "metadata": {},
   "source": [
    "#### Sign Flipping\n",
    "- We must flip the sign when we multiply/divide. ie, modify magnitude of an inequality, by a negative\n",
    "- This is because multiplication and division have the power to change the magnitude, distance from zero, but also the sign, as opposed to only one"
   ]
  },
  {
   "cell_type": "code",
   "execution_count": null,
   "id": "553d8d14-d1ff-4e4b-aa3e-5da86119820c",
   "metadata": {},
   "outputs": [],
   "source": [
    "### Solving Ab\n",
    "- By magnifiying both sides by b\n",
    "- b * (a/b) < ab * b\n",
    "- a < ab^2\n",
    "- 1 < b^2\n",
    "- Since b is always below zero, this is true for all but -1"
   ]
  }
 ],
 "metadata": {
  "kernelspec": {
   "display_name": "Python 3 (ipykernel)",
   "language": "python",
   "name": "python3"
  },
  "language_info": {
   "codemirror_mode": {
    "name": "ipython",
    "version": 3
   },
   "file_extension": ".py",
   "mimetype": "text/x-python",
   "name": "python",
   "nbconvert_exporter": "python",
   "pygments_lexer": "ipython3",
   "version": "3.11.9"
  }
 },
 "nbformat": 4,
 "nbformat_minor": 5
}
