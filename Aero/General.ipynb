{
 "cells": [
  {
   "cell_type": "markdown",
   "id": "8cb0dd15-fa27-4bac-842c-8433b0f08c54",
   "metadata": {},
   "source": [
    "# General"
   ]
  },
  {
   "cell_type": "markdown",
   "id": "d4aebe0f-50da-4511-82b6-053eb00e4385",
   "metadata": {},
   "source": [
    "## Thrust\n",
    "- Total force produced by an system\n",
    "- F = (mass flow air + mass flow fuel)(velocity exit) + (mass flow air)(velocity entrance)"
   ]
  },
  {
   "cell_type": "markdown",
   "id": "e184d2fc-0c24-4c65-9fc4-9643c88d2246",
   "metadata": {},
   "source": [
    "## Specific Thrust\n",
    "- Thrust per unit of ejected fluid, ie, accelerated air\n",
    "- F / mass flow air\n",
    "- F / mass flow air == Velocity exit - Velocity entrance\n",
    "- Notice this makes sense because the Veclocity of the exit air will be proportional to the force on the engine due to Newtons 2nd law. Where the basline is the entering air\n",
    "- How much do we accelerate the air from the inlet to the nozzle per kg of air?"
   ]
  },
  {
   "cell_type": "code",
   "execution_count": null,
   "id": "99fea338-af29-431c-89b0-762c1e8a5b43",
   "metadata": {},
   "outputs": [],
   "source": [
    "## Thrust Specific Fuel Consump\n",
    "- Jet engine efficiency metric\n",
    "- How much fuel and engine uses per unit of thrust per second\n",
    "- TSFC = mass fuel flow / Thrust created by engine\n"
   ]
  }
 ],
 "metadata": {
  "kernelspec": {
   "display_name": "Python 3 (ipykernel)",
   "language": "python",
   "name": "python3"
  },
  "language_info": {
   "codemirror_mode": {
    "name": "ipython",
    "version": 3
   },
   "file_extension": ".py",
   "mimetype": "text/x-python",
   "name": "python",
   "nbconvert_exporter": "python",
   "pygments_lexer": "ipython3",
   "version": "3.11.9"
  }
 },
 "nbformat": 4,
 "nbformat_minor": 5
}
