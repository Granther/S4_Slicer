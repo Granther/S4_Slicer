{
 "cells": [
  {
   "cell_type": "markdown",
   "id": "1c725f76-0f4a-401d-9228-e394faad85a7",
   "metadata": {},
   "source": [
    "## Pi and Irrational Number\n",
    "- With Calc, the area of a circle can be thought of as the added of area of tiny concentric circles\n",
    "- The concentric circles can be laid out like a rectangle and computed for area\n",
    "- The tinier the radius, or thickness of the rectangle, or d. The more precise\n",
    "- So the tinier your cut up the concentric circles, the more accuarate your will be"
   ]
  },
  {
   "cell_type": "markdown",
   "id": "1971fd9e-9fff-4c18-a010-025937050097",
   "metadata": {},
   "source": [
    "### Problem\n",
    "- As the thickness, d, approaches 0, the accuracy improves. But the thickness can never be 0"
   ]
  },
  {
   "cell_type": "markdown",
   "id": "e5fd75b4-fed4-49e3-9495-bcb39e5d3cd8",
   "metadata": {},
   "source": [
    "### Pi\n",
    "- Pi the ratio of the circumfrance to the diameter\n",
    "- This is always 3.14.... But its irrational\n",
    "- Irrational because it never repeats or ends and is infinently long"
   ]
  },
  {
   "cell_type": "markdown",
   "id": "70e84f69-7693-4c5b-aa8b-4291a565230a",
   "metadata": {},
   "source": [
    "#### So in both these ways, it is clear that a shap with an infinently many points making up its equidistant edges cannot be completely measured in any way that is not with respect to only 2 points\n",
    "- ie, one edge point to midpoint for radius. Or the north pole point to the south pole, cirum\n",
    "- We are using an irrational ratio to measure something with cannot be measured except with infinent concentric circles. Fitting for something with an infinently many points"
   ]
  },
  {
   "cell_type": "markdown",
   "id": "981299e5-b799-4845-a361-4d5a8725473a",
   "metadata": {},
   "source": [
    "A linear graph with the slope of 2pi*r can be made. The area under this graph is the area of the cicle\n",
    "\n",
    "So, with the formula for the area of a circle being pi*r^2, the irrational component seems to be represented by pi. Computing pi perfectly, using the entire number un-truncated, would be akin to using an infinently small dr under the graph"
   ]
  }
 ],
 "metadata": {
  "kernelspec": {
   "display_name": "Python 3 (ipykernel)",
   "language": "python",
   "name": "python3"
  },
  "language_info": {
   "codemirror_mode": {
    "name": "ipython",
    "version": 3
   },
   "file_extension": ".py",
   "mimetype": "text/x-python",
   "name": "python",
   "nbconvert_exporter": "python",
   "pygments_lexer": "ipython3",
   "version": "3.10.17"
  }
 },
 "nbformat": 4,
 "nbformat_minor": 5
}
