{
 "cells": [
  {
   "cell_type": "markdown",
   "id": "ae7d9459-482f-476f-88b2-d8559f9e17b9",
   "metadata": {},
   "source": [
    "### Solve for Intercept\n",
    "- Given 2 equations that graph different linear lines\n",
    "- y = x + 2\n",
    "- y = -x + 6\n",
    "- These equations are not equal unless we are looking at a point for interception"
   ]
  }
 ],
 "metadata": {
  "kernelspec": {
   "display_name": "Python 3 (ipykernel)",
   "language": "python",
   "name": "python3"
  },
  "language_info": {
   "codemirror_mode": {
    "name": "ipython",
    "version": 3
   },
   "file_extension": ".py",
   "mimetype": "text/x-python",
   "name": "python",
   "nbconvert_exporter": "python",
   "pygments_lexer": "ipython3",
   "version": "3.11.9"
  }
 },
 "nbformat": 4,
 "nbformat_minor": 5
}
