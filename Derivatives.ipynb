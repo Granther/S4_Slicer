{
 "cells": [
  {
   "cell_type": "markdown",
   "id": "1010fcda-cd3b-43f2-ac44-2f84f3aa1036",
   "metadata": {},
   "source": [
    "### Derivative Notation"
   ]
  },
  {
   "cell_type": "markdown",
   "id": "95e00523-9fb9-4f9a-9d5f-55a43dd2a663",
   "metadata": {},
   "source": [
    "##### Definition\n",
    "f'(x) = lim(h->0)  (f(x+h)-f(x)) / h\n",
    "\n",
    "##### 'f(x)\n",
    "- \"f prime of x\"\n",
    "- The derivative of function f at point x\n",
    "- f'(x) represents the in\n",
    "\n",
    "##### lim(h->0)\n",
    "- \"The limit as h approaches 0\"\n",
    "- We are saying, as h gets closer to zero\n",
    "- Just like a regular limit applies as we get closer to it\n",
    "\n",
    "##### Difference quotient\n",
    "- (f(x+h)-f(x)) / h\n",
    "- x, point we are measuring the instantanious slope of\n",
    "- h, the small difference\n",
    "- By subtracting we are finding the different between x and x+h points on the graph, ie, slope\n",
    "- Slope if rise over run, so the difference in the numerator is the Y comp, and the small change, h, is the X comp\n",
    "- How much, over how fast. Where the denominator is how fast. Rate of change over what rate?"
   ]
  },
  {
   "cell_type": "markdown",
   "id": "44152326-cc41-4a43-9b9e-0113618b6adb",
   "metadata": {},
   "source": [
    "##### Why is the limit important?\n",
    "- The limit defines that h approaches infinently close to 0\n",
    "- With a fixed h, you are just measuring between 2 real points. Only getting the secant line\n",
    "\n",
    "##### Anology\n",
    "- Trip computer average speed\n",
    "- vs\n",
    "- Speedometer, how fast your are going right NOW\n",
    "\n",
    "##### More\n",
    "- A derivative is instantanious, ie, infinently fast rate\n",
    "- If it is a secant line instead of tangent, it its average, a secant is a difference over a real interval, not an infinent one"
   ]
  },
  {
   "cell_type": "code",
   "execution_count": null,
   "id": "007b576c-41e0-4967-b201-6982da65b4a6",
   "metadata": {},
   "outputs": [],
   "source": []
  }
 ],
 "metadata": {
  "kernelspec": {
   "display_name": "Python 3 (ipykernel)",
   "language": "python",
   "name": "python3"
  },
  "language_info": {
   "codemirror_mode": {
    "name": "ipython",
    "version": 3
   },
   "file_extension": ".py",
   "mimetype": "text/x-python",
   "name": "python",
   "nbconvert_exporter": "python",
   "pygments_lexer": "ipython3",
   "version": "3.11.9"
  }
 },
 "nbformat": 4,
 "nbformat_minor": 5
}
