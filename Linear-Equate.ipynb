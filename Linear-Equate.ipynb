{
 "cells": [
  {
   "cell_type": "markdown",
   "id": "2bb25688-c893-4975-b2d7-2335d948374f",
   "metadata": {},
   "source": [
    "### Linear Equations\n",
    "- Equations that when graphed are a straight line\n",
    "\n",
    "#### The = sign\n",
    "- A correct equation is equal on both sides of the = sign\n",
    "- We can use operations to move components from one side to the other\n",
    "- As long as we respect the symetry of the = sign we can do what we please"
   ]
  },
  {
   "cell_type": "markdown",
   "id": "a6b17cde-2bdc-498c-b5a0-e5ecee880706",
   "metadata": {},
   "source": [
    "#### Graphing an equation\n",
    "- Transforms an abstract formula into a visual object\n",
    "- Projects an equation into all its visual forms"
   ]
  },
  {
   "cell_type": "code",
   "execution_count": null,
   "id": "013229fa-0b26-45fe-8481-327e2969ea65",
   "metadata": {},
   "outputs": [],
   "source": []
  }
 ],
 "metadata": {
  "kernelspec": {
   "display_name": "Python 3 (ipykernel)",
   "language": "python",
   "name": "python3"
  },
  "language_info": {
   "codemirror_mode": {
    "name": "ipython",
    "version": 3
   },
   "file_extension": ".py",
   "mimetype": "text/x-python",
   "name": "python",
   "nbconvert_exporter": "python",
   "pygments_lexer": "ipython3",
   "version": "3.11.9"
  }
 },
 "nbformat": 4,
 "nbformat_minor": 5
}
