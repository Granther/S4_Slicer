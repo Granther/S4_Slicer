{
 "cells": [
  {
   "cell_type": "markdown",
   "id": "64ab6a2b-dac1-446b-b4f2-0efa9f7a7649",
   "metadata": {},
   "source": [
    "### Scientific Notation\n",
    "- Multiply desired float by 10 to the power of the number of decimal points between the desired and current\n",
    "- If moving decimal in direction of smaller magnitude raise 10 to the negative exponent"
   ]
  },
  {
   "cell_type": "markdown",
   "id": "99caae52-0ced-454b-95b9-1adac2f8248e",
   "metadata": {},
   "source": [
    "#### Example\n",
    "- 3500 = 3.5*10^3\n",
    "- Notice how the decimal point moved 3 places towards larger magnitude\n",
    "- 3500 . -> 3.500"
   ]
  },
  {
   "cell_type": "markdown",
   "id": "52cc72e9-829c-428c-8d59-71e40479dd29",
   "metadata": {},
   "source": [
    "#### Exponent Truths\n",
    "- 1 is introduced into the picture with the negative exponent right? So is it in postive\n",
    "- 2^2 = 4\n",
    "- Multiplies 2 by itself. More like 1*2*2\n",
    "- Magnify 1 by 2, then do it again\n",
    "- 2^-2 = 0.25\n",
    "- 1/2/2\n",
    "- Same concept"
   ]
  },
  {
   "cell_type": "markdown",
   "id": "0c4de86f-13f3-4ce7-a844-90487b916419",
   "metadata": {},
   "source": [
    "#### Fractional Exponents\n",
    "- Factional exponents describe something that no other questioning mechanism does\n",
    "- ie, square root asks \"What number times itself it this number?\"\n",
    "- Squaring asks \"What is the number when this number is multiplied by itself?\"\n",
    "- If 8^(2/3), what number, when square rooted and then cubed, is 8\n",
    "- Its 4: srt(4)=2, 2^3=8"
   ]
  },
  {
   "cell_type": "markdown",
   "id": "325319ed-d141-4389-bc0c-16b6e48b4d40",
   "metadata": {},
   "source": [
    "#### Truths\n",
    "- 8^(3/3) = cbroot(8)^3 (2^3)        = 8\n",
    "- 9^(3/3) = cbroot(9)^3 (2.0801..^3) = 9 \n",
    "- Notice that 9 does not have a whole number cuberoot"
   ]
  },
  {
   "cell_type": "code",
   "execution_count": null,
   "id": "6d17955a-25f0-4733-8f94-e9917f0fb5a4",
   "metadata": {},
   "outputs": [],
   "source": []
  }
 ],
 "metadata": {
  "kernelspec": {
   "display_name": "Python 3 (ipykernel)",
   "language": "python",
   "name": "python3"
  },
  "language_info": {
   "codemirror_mode": {
    "name": "ipython",
    "version": 3
   },
   "file_extension": ".py",
   "mimetype": "text/x-python",
   "name": "python",
   "nbconvert_exporter": "python",
   "pygments_lexer": "ipython3",
   "version": "3.11.9"
  }
 },
 "nbformat": 4,
 "nbformat_minor": 5
}
