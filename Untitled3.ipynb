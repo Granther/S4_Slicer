{
 "cells": [
  {
   "cell_type": "code",
   "execution_count": null,
   "id": "37d55408-9986-481a-a47a-79bfa3fcb06a",
   "metadata": {},
   "outputs": [],
   "source": [
    "### Proportions\n",
    "- An equation saying that 2 ratios are the same\n",
    "- 1/2 = 2/4\n",
    "- or 1/x = 1/2"
   ]
  },
  {
   "cell_type": "code",
   "execution_count": null,
   "id": "2edd5418-aa16-491f-ba20-2f0b1e1f46eb",
   "metadata": {},
   "outputs": [],
   "source": [
    "#### Truths\n",
    "- 4/x = 2/3\n",
    "- Cross multiply, left num * right den, then multiply this by the versa\n",
    "- Or, flip, x/4 = 3/2, then solve like normal\n",
    "-"
   ]
  }
 ],
 "metadata": {
  "kernelspec": {
   "display_name": "Python 3 (ipykernel)",
   "language": "python",
   "name": "python3"
  },
  "language_info": {
   "codemirror_mode": {
    "name": "ipython",
    "version": 3
   },
   "file_extension": ".py",
   "mimetype": "text/x-python",
   "name": "python",
   "nbconvert_exporter": "python",
   "pygments_lexer": "ipython3",
   "version": "3.11.9"
  }
 },
 "nbformat": 4,
 "nbformat_minor": 5
}
